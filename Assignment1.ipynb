{
  "nbformat": 4,
  "nbformat_minor": 0,
  "metadata": {
    "colab": {
      "name": "Assignment1.ipynb",
      "provenance": [],
      "collapsed_sections": []
    },
    "kernelspec": {
      "name": "python3",
      "display_name": "Python 3"
    },
    "language_info": {
      "name": "python"
    }
  },
  "cells": [
    {
      "cell_type": "code",
      "metadata": {
        "colab": {
          "base_uri": "https://localhost:8080/"
        },
        "id": "6kEBJMiB1TeR",
        "outputId": "e86f6b0f-32f5-4ef7-e3b9-45322f3ffcee"
      },
      "source": [
        "import math\n",
        "#Below four lines will input x,y coordinates of 2 points\n",
        "x1 = float(input(\"'x'coordinate of point P1: \"))\n",
        "y1 = float(input(\"'y'coordinate of point P1: \"))\n",
        "x2 = float(input(\"'x'coordinate of point P2: \"))\n",
        "y2 = float(input(\"'y'coordinate of point P2: \"))\n",
        "ang = float(input(\"angle between the axis in degrees: \"))\n",
        "a = abs(x2-x1) #projection of line on x axis\n",
        "b=abs(y2-y1) #projection of line on y axis\n",
        "#to calculate the distance and round it off to 2 decimals\n",
        "l = round(math.sqrt( a**2+b**2-2*a*b*math.cos(math.pi-(ang*(math.pi)/180))),2)\n",
        "print(\"length between P1 & P2 is:\",l)\n"
      ],
      "execution_count": 1,
      "outputs": [
        {
          "output_type": "stream",
          "text": [
            "'x'coordinate of point P1: 7\n",
            "'y'coordinate of point P1: 6\n",
            "'x'coordinate of point P2: 4\n",
            "'y'coordinate of point P2: 5\n",
            "angle between the axis in degrees: 60\n",
            "length between P1 & P2 is: 3.61\n"
          ],
          "name": "stdout"
        }
      ]
    }
  ]
}