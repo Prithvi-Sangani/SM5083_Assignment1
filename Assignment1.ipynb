{
  "nbformat": 4,
  "nbformat_minor": 0,
  "metadata": {
    "colab": {
      "name": "updatedassignment1.ipynb",
      "provenance": []
    },
    "kernelspec": {
      "name": "python3",
      "display_name": "Python 3"
    },
    "language_info": {
      "name": "python"
    }
  },
  "cells": [
    {
      "cell_type": "code",
      "metadata": {
        "colab": {
          "base_uri": "https://localhost:8080/"
        },
        "id": "411p3arOWp3M",
        "outputId": "2c44e11e-60c8-46f5-f6d8-0b67c785fb55"
      },
      "source": [
        "import numpy as np\n",
        "import math\n",
        "#Transformation of the given coordinate axes to rectangular axis\n",
        "#All the angles are to be given in degrees only\n",
        "x1 = float(input(\"x coordinate of the point P1: \"))\n",
        "y1 = float(input(\"y coordinate of the point P1: \"))\n",
        "x2 = float(input(\"x coordinate of the point P2: \"))\n",
        "y2 = float(input(\"y coordinate of the point P2: \"))\n",
        "a_11 = float(input(\"angle made by transformed x-axis with the given x-axis: \"))\n",
        "a_12 = float(input(\"angle made by transfomed x-axis with the given y-axis: \"))\n",
        "a_21 = float(input(\"angle made by transfomed y-axis with the given x-axis: \"))\n",
        "a_22 = float(input(\"angle made by transfomed y-axis with the given y-axis: \"))\n",
        "#Tranformation matrix\n",
        "import math\n",
        "T = np.array([[math.cos(a_11*math.pi/180), math.cos(a_12*math.pi/180)], [math.cos(a_21*math.pi/180), math.cos(a_22*math.pi/180)]])\n",
        "P_1 = np.array([[x1],[y1]])\n",
        "P_2 = np.array([[x2],[y2]])\n",
        "P_1T = np.dot(T,P_1) #transformed vector\n",
        "P_2T = np.dot(T,P_2) #transformed vector\n",
        "P = np.subtract(P_1T,P_2T)\n",
        "#defining a magnitude of vector function\n",
        "def magnitude(vector): \n",
        "    return math.sqrt(sum(pow(element, 2) for element in vector))\n",
        "print(\"displacement between two points is: \",round(magnitude(P),3))\n"
      ],
      "execution_count": 57,
      "outputs": [
        {
          "output_type": "stream",
          "text": [
            "x coordinate of the point P1: 7\n",
            "y coordinate of the point P1: 6\n",
            "x coordinate of the point P2: 4\n",
            "y coordinate of the point P2: 5\n",
            "angle made by transformed x-axis with the given x-axis: 0\n",
            "angle made by transfomed x-axis with the given y-axis: 60\n",
            "angle made by transfomed y-axis with the given x-axis: 90\n",
            "angle made by transfomed y-axis with the given y-axis: 30\n",
            "displacement between two points is:  3.606\n"
          ],
          "name": "stdout"
        }
      ]
    }
  ]
}